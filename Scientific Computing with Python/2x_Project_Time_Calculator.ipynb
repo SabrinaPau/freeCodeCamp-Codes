{
 "cells": [
  {
   "cell_type": "markdown",
   "metadata": {},
   "source": [
    "# Build a Time Calculator Project"
   ]
  },
  {
   "cell_type": "markdown",
   "metadata": {},
   "source": [
    "Write a function named add_time that takes in two required parameters and one optional parameter:\n",
    "\n",
    "- a start time in the 12-hour clock format (ending in AM or PM)\n",
    "- a duration time that indicates the number of hours and minutes\n",
    "- (optional) a starting day of the week, case insensitive\n",
    "\n",
    "The function should add the duration time to the start time and return the result.\n",
    "\n",
    "If the result will be the next day, it should show (next day) after the time. If the result will be more than one day later, it should show (n days later) after the time, where \"n\" is the number of days later.\n",
    "\n",
    "If the function is given the optional starting day of the week parameter, then the output should display the day of the week of the result. The day of the week in the output should appear after the time and before the number of days later.\n",
    "\n",
    "Below are some examples of different cases the function should handle. Pay close attention to the spacing and punctuation of the results.\n",
    "\n",
    "## Example Code\n",
    "\n",
    "add_time('3:00 PM', '3:10')  \n",
    "=> Returns: 6:10 PM\n",
    "\n",
    "add_time('11:30 AM', '2:32', 'Monday')  \n",
    "=> Returns: 2:02 PM, Monday\n",
    "\n",
    "add_time('11:43 AM', '00:20')  \n",
    "=> Returns: 12:03 PM\n",
    "\n",
    "add_time('10:10 PM', '3:30')  \n",
    "=> Returns: 1:40 AM (next day)\n",
    "\n",
    "add_time('11:43 PM', '24:20', 'tueSday')  \n",
    "=> Returns: 12:03 AM, Thursday (2 days later)\n",
    "\n",
    "add_time('6:30 PM', '205:12')  \n",
    "=> Returns: 7:42 AM (9 days later)\n",
    "\n",
    "Do not import any Python libraries. Assume that the start times are valid times. The minutes in the duration time will be a whole number less than 60, but the hour can be any whole number."
   ]
  },
  {
   "cell_type": "markdown",
   "metadata": {},
   "source": [
    "---\n",
    "## My solution"
   ]
  },
  {
   "cell_type": "markdown",
   "metadata": {},
   "source": [
    "*set up:*  \n",
    "**input** & **start** & **duration**: *strings*  \n",
    "**new thingis**: *int*"
   ]
  },
  {
   "cell_type": "code",
   "execution_count": 231,
   "metadata": {},
   "outputs": [],
   "source": [
    "def add_time(start, duration, weekday=''):\n",
    "    # Split the start-string into hour, minute and daytime\n",
    "    start_time, start_daytime = start.split()\n",
    "    start_hour, start_minute = start_time.split(':')\n",
    "\n",
    "    # Split the duration-string into hour and minute\n",
    "    duration_hour, duration_minute = duration.split(':')\n",
    "\n",
    "    # Convert to 24 hour format\n",
    "    if start_daytime == 'PM':\n",
    "        start_hour = int(start_hour) + 12\n",
    "\n",
    "    # Add starting time and duration\n",
    "    new_minute = int(start_minute) + int(duration_minute)\n",
    "\n",
    "    # Note hour carryover\n",
    "    new_hour = int(start_hour) + int(duration_hour) + (new_minute // 60)\n",
    "    new_minute = new_minute % 60\n",
    "\n",
    "    # if next or any further day, write it down\n",
    "    new_day = ''\n",
    "    if (new_hour // 24) == 1:\n",
    "        new_day = ' (next day)'\n",
    "    elif (new_hour // 24) > 1:\n",
    "        new_day = f' ({new_hour // 24} days later)'\n",
    "\n",
    "    # Set new daytime\n",
    "    if (new_hour % 24) in range (0, 12):\n",
    "        new_daytime = 'AM'\n",
    "    elif (new_hour % 24) in range (12, 24):\n",
    "        new_daytime = 'PM'\n",
    "\n",
    "    # Note given day of the week\n",
    "    new_weekday =''\n",
    "    if weekday != '':\n",
    "        week = {\n",
    "            'Monday': 0,\n",
    "            'Tuesday': 1,\n",
    "            'Wednesday': 2,\n",
    "            'Thursday': 3,\n",
    "            'Friday': 4,\n",
    "            'Saturday': 5,\n",
    "            'Sunday': 6\n",
    "            }\n",
    "\n",
    "        number_weekday = week[weekday.capitalize()]  # first letter uppercase, rest lower case\n",
    "        new_number = (number_weekday + (new_hour // 24)) % 7\n",
    "\n",
    "        for day, number in week.items():\n",
    "            if new_number == number:\n",
    "                new_weekday = f', {day}'\n",
    "                break\n",
    "\n",
    "    # Convert back to 12 hour format\n",
    "    new_hour = new_hour % 12\n",
    "    if new_hour == 0:\n",
    "        new_hour = 12\n",
    "\n",
    "    new_time = f'{new_hour}:{new_minute:02} {new_daytime}{new_weekday}{new_day}'\n",
    "    return new_time"
   ]
  },
  {
   "cell_type": "markdown",
   "metadata": {},
   "source": [
    "---\n",
    "# ChatGPTs solution"
   ]
  },
  {
   "cell_type": "code",
   "execution_count": 248,
   "metadata": {},
   "outputs": [
    {
     "name": "stdout",
     "output_type": "stream",
     "text": [
      "6:10 PM\n",
      "2:02 PM, Monday\n",
      "12:03 PM\n",
      "1:40 AM (next day)\n",
      "12:03 AM, Thursday (2 days later)\n",
      "7:42 AM (9 days later)\n"
     ]
    }
   ],
   "source": [
    "def add_time(start, duration, starting_day=None):\n",
    "    # Mapping for days of the week\n",
    "    days_of_week = ['Monday', 'Tuesday', 'Wednesday', 'Thursday', 'Friday', 'Saturday', 'Sunday']\n",
    "\n",
    "    # Split start time into components\n",
    "    start_time, period = start.split()\n",
    "    start_hour, start_minute = map(int, start_time.split(':'))\n",
    "\n",
    "    # Convert 12-hour format to 24-hour format\n",
    "    if period == 'PM' and start_hour != 12:\n",
    "        start_hour += 12\n",
    "    elif period == 'AM' and start_hour == 12:\n",
    "        start_hour = 0\n",
    "\n",
    "    # Split duration into hours and minutes\n",
    "    duration_hour, duration_minute = map(int, duration.split(':'))\n",
    "\n",
    "    # Add the duration time to the start time\n",
    "    end_minute = start_minute + duration_minute\n",
    "    end_hour = start_hour + duration_hour + end_minute // 60\n",
    "    end_minute %= 60\n",
    "    days_later = end_hour // 24\n",
    "    end_hour %= 24\n",
    "\n",
    "    # Convert 24-hour format back to 12-hour format\n",
    "    if end_hour == 0:\n",
    "        final_hour = 12\n",
    "        period = 'AM'\n",
    "    elif end_hour < 12:\n",
    "        final_hour = end_hour\n",
    "        period = 'AM'\n",
    "    elif end_hour == 12:\n",
    "        final_hour = 12\n",
    "        period = 'PM'\n",
    "    else:\n",
    "        final_hour = end_hour - 12\n",
    "        period = 'PM'\n",
    "\n",
    "    # Determine the new day of the week, if starting_day is given\n",
    "    if starting_day:\n",
    "        starting_day = starting_day.capitalize()\n",
    "        day_index = days_of_week.index(starting_day)\n",
    "        new_day_index = (day_index + days_later) % 7\n",
    "        new_day = days_of_week[new_day_index]\n",
    "        day_part = f\", {new_day}\"\n",
    "    else:\n",
    "        day_part = ''\n",
    "\n",
    "    # Format how many days later\n",
    "    if days_later == 1:\n",
    "        later_part = \" (next day)\"\n",
    "    elif days_later > 1:\n",
    "        later_part = f\" ({days_later} days later)\"\n",
    "    else:\n",
    "        later_part = ''\n",
    "\n",
    "    # Final formatted time\n",
    "    return f\"{final_hour}:{end_minute:02d} {period}{day_part}{later_part}\"\n",
    "\n",
    "# Example calls\n",
    "print(add_time('3:00 PM', '3:10'))  # 6:10 PM\n",
    "print(add_time('11:30 AM', '2:32', 'Monday'))  # 2:02 PM, Monday\n",
    "print(add_time('11:43 AM', '00:20'))  # 12:03 PM\n",
    "print(add_time('10:10 PM', '3:30'))  # 1:40 AM (next day)\n",
    "print(add_time('11:43 PM', '24:20', 'tueSday'))  # 12:03 AM, Thursday (2 days later)\n",
    "print(add_time('6:30 PM', '205:12'))  # 7:42 AM (9 days later)"
   ]
  },
  {
   "cell_type": "markdown",
   "metadata": {},
   "source": [
    "---\n",
    "# My solution - revised by ChatGPT"
   ]
  },
  {
   "cell_type": "code",
   "execution_count": 249,
   "metadata": {},
   "outputs": [],
   "source": [
    "def add_time(start, duration, weekday=''):\n",
    "    # Split the start-string into hour, minute and AM/PM\n",
    "    start_time, start_daytime = start.split()\n",
    "    start_hour, start_minute = map(int, start_time.split(':'))\n",
    "\n",
    "    # Convert PM to 24 hour format\n",
    "    if start_daytime == 'PM' and start_hour != 12:\n",
    "        start_hour += 12\n",
    "    elif start_daytime == 'AM' and start_hour == 12:\n",
    "        start_hour = 0\n",
    "\n",
    "    # Split the duration-string into hour and minute\n",
    "    duration_hour, duration_minute = map(int, duration.split(':'))\n",
    "\n",
    "    # Add starting time and duration\n",
    "    new_minute = start_minute + duration_minute\n",
    "    new_hour = start_hour + duration_hour + (new_minute // 60)\n",
    "    new_minute %= 60\n",
    "\n",
    "    # Calculate how many days later\n",
    "    days_later = new_hour // 24\n",
    "    new_hour %= 24\n",
    "\n",
    "    # Convert back to 12 hour format\n",
    "    if new_hour == 0:\n",
    "        display_hour = 12\n",
    "        new_daytime = 'AM'\n",
    "    elif new_hour < 12:\n",
    "        display_hour = new_hour\n",
    "        new_daytime = 'AM'\n",
    "    elif new_hour == 12:\n",
    "        display_hour = 12\n",
    "        new_daytime = 'PM'\n",
    "    else:\n",
    "        display_hour = new_hour -12\n",
    "        new_daytime = 'PM'\n",
    "\n",
    "    # Determine the new weekday if a weekday is provided\n",
    "    if weekday:\n",
    "        week = ['Monday', 'Tuesday', 'Wednesday', 'Thursday', 'Friday', 'Saturday', 'Sunday']\n",
    "        starting_index = week.index(weekday.capitalize())\n",
    "        new_weekday = week[(starting_index + days_later) % 7]\n",
    "        weekday_part = f', {new_weekday}'\n",
    "    else:\n",
    "        weekday_part = ''\n",
    "\n",
    "    # Determine the (next day) or (n days later) part\n",
    "    if days_later == 1:\n",
    "        day_part = ' (next day)'\n",
    "    elif days_later > 1:\n",
    "        day_part = f' ({days_later} days later)'\n",
    "    else:\n",
    "        day_part = ''\n",
    "\n",
    "    # Return the final formatted time\n",
    "    new_time = f'{display_hour}:{new_minute:02d} {new_daytime}{weekday_part}{day_part}'\n",
    "    return new_time"
   ]
  },
  {
   "cell_type": "markdown",
   "metadata": {},
   "source": [
    "---\n",
    "Examples:"
   ]
  },
  {
   "cell_type": "code",
   "execution_count": 250,
   "metadata": {},
   "outputs": [
    {
     "data": {
      "text/plain": [
       "'6:10 PM'"
      ]
     },
     "execution_count": 250,
     "metadata": {},
     "output_type": "execute_result"
    }
   ],
   "source": [
    "add_time('3:00 PM', '3:10')\n",
    "# 6:10 PM"
   ]
  },
  {
   "cell_type": "code",
   "execution_count": 251,
   "metadata": {},
   "outputs": [
    {
     "data": {
      "text/plain": [
       "'2:02 PM, Monday'"
      ]
     },
     "execution_count": 251,
     "metadata": {},
     "output_type": "execute_result"
    }
   ],
   "source": [
    "add_time('11:30 AM', '2:32', 'Monday')\n",
    "# 2:02 PM, Monday"
   ]
  },
  {
   "cell_type": "code",
   "execution_count": 252,
   "metadata": {},
   "outputs": [
    {
     "data": {
      "text/plain": [
       "'12:03 PM'"
      ]
     },
     "execution_count": 252,
     "metadata": {},
     "output_type": "execute_result"
    }
   ],
   "source": [
    "add_time('11:43 AM', '00:20')\n",
    "# 12:03 PM"
   ]
  },
  {
   "cell_type": "code",
   "execution_count": 253,
   "metadata": {},
   "outputs": [
    {
     "data": {
      "text/plain": [
       "'1:40 AM (next day)'"
      ]
     },
     "execution_count": 253,
     "metadata": {},
     "output_type": "execute_result"
    }
   ],
   "source": [
    "add_time('10:10 PM', '3:30')\n",
    "# 1:40 AM (next day)"
   ]
  },
  {
   "cell_type": "code",
   "execution_count": 254,
   "metadata": {},
   "outputs": [
    {
     "data": {
      "text/plain": [
       "'12:03 AM, Thursday (2 days later)'"
      ]
     },
     "execution_count": 254,
     "metadata": {},
     "output_type": "execute_result"
    }
   ],
   "source": [
    "add_time('11:43 PM', '24:20', 'tueSday')\n",
    "# 12:03 AM, Thursday (2 days later)"
   ]
  },
  {
   "cell_type": "code",
   "execution_count": 255,
   "metadata": {},
   "outputs": [
    {
     "data": {
      "text/plain": [
       "'7:42 AM (9 days later)'"
      ]
     },
     "execution_count": 255,
     "metadata": {},
     "output_type": "execute_result"
    }
   ],
   "source": [
    "add_time('6:30 PM', '205:12')\n",
    "# 7:42 AM (9 days later)"
   ]
  },
  {
   "cell_type": "markdown",
   "metadata": {},
   "source": [
    "---\n",
    "Tests:"
   ]
  },
  {
   "cell_type": "code",
   "execution_count": 256,
   "metadata": {},
   "outputs": [
    {
     "data": {
      "text/plain": [
       "'5:42 PM'"
      ]
     },
     "execution_count": 256,
     "metadata": {},
     "output_type": "execute_result"
    }
   ],
   "source": [
    "add_time('3:30 PM', '2:12')\n",
    "# '5:42 PM'"
   ]
  },
  {
   "cell_type": "code",
   "execution_count": 257,
   "metadata": {},
   "outputs": [
    {
     "data": {
      "text/plain": [
       "'3:07 PM'"
      ]
     },
     "execution_count": 257,
     "metadata": {},
     "output_type": "execute_result"
    }
   ],
   "source": [
    "add_time('11:55 AM', '3:12')\n",
    "# '3:07 PM'"
   ]
  },
  {
   "cell_type": "code",
   "execution_count": 258,
   "metadata": {},
   "outputs": [
    {
     "data": {
      "text/plain": [
       "'2:59 AM (next day)'"
      ]
     },
     "execution_count": 258,
     "metadata": {},
     "output_type": "execute_result"
    }
   ],
   "source": [
    "add_time('2:59 AM', '24:00')\n",
    "# '2:59 AM (next day)'"
   ]
  },
  {
   "cell_type": "code",
   "execution_count": 259,
   "metadata": {},
   "outputs": [
    {
     "data": {
      "text/plain": [
       "'12:04 AM (2 days later)'"
      ]
     },
     "execution_count": 259,
     "metadata": {},
     "output_type": "execute_result"
    }
   ],
   "source": [
    "add_time('11:59 PM', '24:05')\n",
    "# '12:04 AM (2 days later)'"
   ]
  },
  {
   "cell_type": "code",
   "execution_count": 260,
   "metadata": {},
   "outputs": [
    {
     "data": {
      "text/plain": [
       "'6:18 AM (20 days later)'"
      ]
     },
     "execution_count": 260,
     "metadata": {},
     "output_type": "execute_result"
    }
   ],
   "source": [
    "add_time('8:16 PM', '466:02')\n",
    "# '6:18 AM (20 days later)'"
   ]
  },
  {
   "cell_type": "code",
   "execution_count": 261,
   "metadata": {},
   "outputs": [
    {
     "data": {
      "text/plain": [
       "'5:42 PM, Monday'"
      ]
     },
     "execution_count": 261,
     "metadata": {},
     "output_type": "execute_result"
    }
   ],
   "source": [
    "add_time('3:30 PM', '2:12', 'Monday')\n",
    "# '5:42 PM, Monday'"
   ]
  },
  {
   "cell_type": "code",
   "execution_count": 262,
   "metadata": {},
   "outputs": [
    {
     "data": {
      "text/plain": [
       "'2:59 AM, Sunday (next day)'"
      ]
     },
     "execution_count": 262,
     "metadata": {},
     "output_type": "execute_result"
    }
   ],
   "source": [
    "add_time('2:59 AM', '24:00', 'saturDay')\n",
    "# '2:59 AM, Sunday (next day)'"
   ]
  },
  {
   "cell_type": "code",
   "execution_count": 263,
   "metadata": {},
   "outputs": [
    {
     "data": {
      "text/plain": [
       "'2:59 AM, Sunday (next day)'"
      ]
     },
     "execution_count": 263,
     "metadata": {},
     "output_type": "execute_result"
    }
   ],
   "source": [
    "add_time('2:59 AM', '24:00', 'saturday')\n",
    "# '2:59 AM, Sunday (next day)'"
   ]
  },
  {
   "cell_type": "code",
   "execution_count": 264,
   "metadata": {},
   "outputs": [
    {
     "data": {
      "text/plain": [
       "'12:04 AM, Friday (2 days later)'"
      ]
     },
     "execution_count": 264,
     "metadata": {},
     "output_type": "execute_result"
    }
   ],
   "source": [
    "add_time('11:59 PM', '24:05', 'Wednesday')\n",
    "# '12:04 AM, Friday (2 days later)'"
   ]
  },
  {
   "cell_type": "code",
   "execution_count": 265,
   "metadata": {},
   "outputs": [
    {
     "data": {
      "text/plain": [
       "'6:18 AM, Monday (20 days later)'"
      ]
     },
     "execution_count": 265,
     "metadata": {},
     "output_type": "execute_result"
    }
   ],
   "source": [
    "add_time('8:16 PM', '466:02', 'tuesday')\n",
    "# '6:18 AM, Monday (20 days later)'"
   ]
  }
 ],
 "metadata": {
  "kernelspec": {
   "display_name": "sabbys_base",
   "language": "python",
   "name": "python3"
  },
  "language_info": {
   "codemirror_mode": {
    "name": "ipython",
    "version": 3
   },
   "file_extension": ".py",
   "mimetype": "text/x-python",
   "name": "python",
   "nbconvert_exporter": "python",
   "pygments_lexer": "ipython3",
   "version": "3.12.3"
  }
 },
 "nbformat": 4,
 "nbformat_minor": 2
}
