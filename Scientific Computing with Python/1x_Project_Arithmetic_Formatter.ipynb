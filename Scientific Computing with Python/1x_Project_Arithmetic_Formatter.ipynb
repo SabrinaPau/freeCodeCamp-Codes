{
 "cells": [
  {
   "cell_type": "markdown",
   "metadata": {},
   "source": [
    "# Build an Arithmetic Formatter Project"
   ]
  },
  {
   "cell_type": "markdown",
   "metadata": {},
   "source": [
    "Students in primary school often arrange arithmetic problems vertically to make them easier to solve. For example, \"235 + 52\" becomes:"
   ]
  },
  {
   "cell_type": "raw",
   "metadata": {
    "vscode": {
     "languageId": "raw"
    }
   },
   "source": [
    "  235\n",
    "+  52\n",
    "-----"
   ]
  },
  {
   "cell_type": "markdown",
   "metadata": {},
   "source": [
    "Finish the arithmetic_arranger function that receives a list of strings which are arithmetic problems, and returns the problems arranged vertically and side-by-side. The function should optionally take a second argument. When the second argument is set to True, the answers should be displayed.\n",
    "Example\n",
    "\n",
    "Function Call:\n",
    "\n",
    "arithmetic_arranger([\"32 + 698\", \"3801 - 2\", \"45 + 43\", \"123 + 49\"])\n",
    "\n",
    "Output:"
   ]
  },
  {
   "cell_type": "raw",
   "metadata": {
    "vscode": {
     "languageId": "raw"
    }
   },
   "source": [
    "   32      3801      45      123\n",
    "+ 698    -    2    + 43    +  49\n",
    "-----    ------    ----    -----"
   ]
  },
  {
   "cell_type": "markdown",
   "metadata": {},
   "source": [
    "Function Call:\n",
    "\n",
    "arithmetic_arranger([\"32 + 8\", \"1 - 3801\", \"9999 + 9999\", \"523 - 49\"], True)\n",
    "\n",
    "Output:"
   ]
  },
  {
   "cell_type": "raw",
   "metadata": {
    "vscode": {
     "languageId": "raw"
    }
   },
   "source": [
    "  32         1      9999      523\n",
    "+  8    - 3801    + 9999    -  49\n",
    "----    ------    ------    -----\n",
    "  40     -3800     19998      474"
   ]
  },
  {
   "cell_type": "markdown",
   "metadata": {},
   "source": [
    "#### Rules\n",
    "The function will return the correct conversion if the supplied problems are properly formatted, otherwise, it will return a string that describes an error that is meaningful to the user.\n",
    "\n",
    "Situations that will return an error:  \n",
    "- If there are too many problems supplied to the function. The limit is five, anything more will return: 'Error: Too many problems.'\n",
    "- The appropriate operators the function will accept are addition and subtraction. Multiplication and division will return an error. Other operators not mentioned in this bullet point will not need to be tested. The error returned will be: \"Error: Operator must be '+' or '-'.\"\n",
    "- Each number (operand) should only contain digits. Otherwise, the function will return: 'Error: Numbers must only contain digits.'\n",
    "- Each operand (aka number on each side of the operator) has a max of four digits in width. Otherwise, the error string returned will be: 'Error: Numbers cannot be more than four digits.'\n",
    "\n",
    "If the user supplied the correct format of problems, the conversion you return will follow these rules:\n",
    "- There should be a single space between the operator and the longest of the two operands, the operator will be on the same line as the second operand, both operands will be in the same order as provided (the first will be the top one and the second will be the bottom).\n",
    "- Numbers should be right-aligned.\n",
    "- There should be four spaces between each problem.\n",
    "- There should be dashes at the bottom of each problem. The dashes should run along the entire length of each problem individually. (The example above shows what this should look like.)\n",
    "\n",
    "Note: open the browser console with F12 to see a more verbose output of the tests."
   ]
  },
  {
   "cell_type": "markdown",
   "metadata": {},
   "source": [
    "---"
   ]
  },
  {
   "cell_type": "markdown",
   "metadata": {},
   "source": [
    "## My solution"
   ]
  },
  {
   "cell_type": "code",
   "execution_count": 2,
   "metadata": {},
   "outputs": [],
   "source": [
    "def arithmetic_arranger(problems, show_answers=False):\n",
    "    first_lines = []\n",
    "    second_lines = []\n",
    "    third_lines = []\n",
    "    answers = []\n",
    "\n",
    "    for problem in problems:\n",
    "        # extract first number\n",
    "        if problem[:problem.find(' ')].isdecimal():\n",
    "            first_number = int(problem[:problem.find(' ')])\n",
    "        else:\n",
    "            return ('Error: Numbers must only contain digits.')\n",
    "        \n",
    "        second_part = problem[problem.find(' '):].strip(' ')\n",
    "        # extract second number\n",
    "        if second_part[second_part.find(' '):].strip(' ').isdecimal():\n",
    "            second_number = int(second_part[second_part.find(' '):].strip(' '))\n",
    "        else:\n",
    "            return ('Error: Numbers must only contain digits.')\n",
    "\n",
    "        # extract operator\n",
    "        operator = second_part[:second_part.find(' ')]\n",
    "        \n",
    "        # Error handling\n",
    "        if (len(problems) > 5):\n",
    "            return 'Error: Too many problems.'\n",
    "        if operator not in ['+', '-']:\n",
    "            return \"Error: Operator must be '+' or '-'.\"\n",
    "        if len(str(first_number)) > 4:\n",
    "            return 'Error: Numbers cannot be more than four digits.'\n",
    "        elif len(str(second_number)) > 4:\n",
    "            return 'Error: Numbers cannot be more than four digits.'\n",
    "        \n",
    "        # Calculate the result\n",
    "        if operator == '+':\n",
    "            result = first_number + second_number\n",
    "        elif operator == '-':\n",
    "            result = first_number - second_number\n",
    "        \n",
    "        # Build the lines, numbers adjusted to the right with filling whitespaces\n",
    "        first_line = str(first_number).rjust(max(len(str(first_number)), len(str(second_number)))+2)\n",
    "        second_line = operator + str(second_number).rjust(max(len(str(first_number)), len(str(second_number)))+1)\n",
    "        third_line = '-' * (max(len(str(first_number)), len(str(second_number)))+2)\n",
    "        result_line = str(result).rjust(max(len(str(first_number)), len(str(second_number)))+2)\n",
    "\n",
    "        # Save all the lines in the list to use them after the loop\n",
    "        first_lines.append(first_line)\n",
    "        second_lines.append(second_line)\n",
    "        third_lines.append(third_line)\n",
    "        answers.append(str(result_line))\n",
    "\n",
    "    # Build the final lines, with all the problems side by side and separated by 4 whitespaces\n",
    "    first = '    '.join(first_lines)\n",
    "    second = '    '.join(second_lines)\n",
    "    third = '    '.join(third_lines)\n",
    "    answer = '    '.join(answers)\n",
    "\n",
    "    if show_answers:\n",
    "        calculation = f'{first}\\n{second}\\n{third}\\n{answer}'\n",
    "    else:\n",
    "        calculation = f'{first}\\n{second}\\n{third}'\n",
    "\n",
    "    return calculation"
   ]
  },
  {
   "cell_type": "markdown",
   "metadata": {},
   "source": [
    "---"
   ]
  },
  {
   "cell_type": "markdown",
   "metadata": {},
   "source": [
    "## ChatGPTs solution"
   ]
  },
  {
   "cell_type": "code",
   "execution_count": 1,
   "metadata": {},
   "outputs": [],
   "source": [
    "def arithmetic_arranger(problems, show_answers=False):\n",
    "    # Error handling for the number of problems\n",
    "    if len(problems) > 5:\n",
    "        return \"Error: Too many problems.\"\n",
    "    \n",
    "    first_line = \"\"\n",
    "    second_line = \"\"\n",
    "    dashes = \"\"\n",
    "    answers = \"\"\n",
    "    \n",
    "    for i, problem in enumerate(problems):\n",
    "        parts = problem.split()\n",
    "        if len(parts) != 3:\n",
    "            return \"Error: Invalid problem format.\"\n",
    "        \n",
    "        num1, operator, num2 = parts\n",
    "\n",
    "        # Error handling for operators\n",
    "        if operator not in ['+', '-']:\n",
    "            return \"Error: Operator must be '+' or '-'.\"\n",
    "        \n",
    "        # Error handling for non-digit characters\n",
    "        if not num1.isdigit() or not num2.isdigit():\n",
    "            return \"Error: Numbers must only contain digits.\"\n",
    "        \n",
    "        # Error handling for digit length\n",
    "        if len(num1) > 4 or len(num2) > 4:\n",
    "            return \"Error: Numbers cannot be more than four digits.\"\n",
    "        \n",
    "        # Calculate the result for display, if needed\n",
    "        if operator == \"+\":\n",
    "            result = str(int(num1) + int(num2))\n",
    "        elif operator == \"-\":\n",
    "            result = str(int(num1) - int(num2))\n",
    "        \n",
    "        # Determine the width for formatting\n",
    "        width = max(len(num1), len(num2)) + 2  # +2 for operator and space\n",
    "        \n",
    "        # Construct each line\n",
    "        if i > 0:\n",
    "            first_line += \"    \"\n",
    "            second_line += \"    \"\n",
    "            dashes += \"    \"\n",
    "            answers += \"    \"\n",
    "        \n",
    "        first_line += num1.rjust(width)\n",
    "        second_line += operator + num2.rjust(width - 1)\n",
    "        dashes += \"-\" * width\n",
    "        answers += result.rjust(width)\n",
    "    \n",
    "    # Combine the arranged problems\n",
    "    if show_answers:\n",
    "        arranged_problems = first_line + \"\\n\" + second_line + \"\\n\" + dashes + \"\\n\" + answers\n",
    "    else:\n",
    "        arranged_problems = first_line + \"\\n\" + second_line + \"\\n\" + dashes\n",
    "    \n",
    "    return arranged_problems"
   ]
  },
  {
   "cell_type": "markdown",
   "metadata": {},
   "source": [
    "---"
   ]
  },
  {
   "cell_type": "markdown",
   "metadata": {},
   "source": [
    "## My solution - revised by ChatGPT"
   ]
  },
  {
   "cell_type": "code",
   "execution_count": 5,
   "metadata": {},
   "outputs": [],
   "source": [
    "def arithmetic_arranger(problems, show_answers=False):\n",
    "    # Error handling for the number of problems\n",
    "    if len(problems) > 5:\n",
    "        return 'Error: Too many problems.'\n",
    "\n",
    "    first_lines = []\n",
    "    second_lines = []\n",
    "    third_lines = []\n",
    "    answers = []\n",
    "\n",
    "    for problem in problems:\n",
    "        # Split the problem into components\n",
    "        parts = problem.split()\n",
    "        if len(parts) != 3:\n",
    "            return 'Error: Invalid problem format.'\n",
    "\n",
    "        first_number, operator, second_number = parts   # Note: all parts are strings!\n",
    "\n",
    "        # Check if both numbers are valid digits\n",
    "        if not first_number.isdigit() or not second_number.isdigit():\n",
    "            return 'Error: Numbers must only contain digits.'\n",
    "\n",
    "        # Check if operator is valid\n",
    "        if operator not in ['+', '-']:\n",
    "            return \"Error: Operator must be '+' or '-'.\"\n",
    "        \n",
    "        # Check for the length of numbers\n",
    "        if len(first_number) > 4 or len(second_number) > 4:\n",
    "            return 'Error: Numbers cannot be more than four digits.'\n",
    "        \n",
    "        # Calculate the result - Note: result is integer!\n",
    "        if operator == '+':\n",
    "            result = int(first_number) + int(second_number)\n",
    "        elif operator == '-':\n",
    "            result = int(first_number) - int(second_number)\n",
    "        \n",
    "        # Determine the width of the formatting\n",
    "        width = max(len(first_number), len(second_number)) + 2\n",
    "        \n",
    "        # Build the lines, numbers adjusted to the right with filling whitespaces - Note: lines are all strings!\n",
    "        first_line = first_number.rjust(width)\n",
    "        second_line = operator + second_number.rjust(width -1)\n",
    "        third_line = '-' * width\n",
    "        result_line = str(result).rjust(width)\n",
    "\n",
    "        # Save all the lines in the list to use them after the loop\n",
    "        first_lines.append(first_line)\n",
    "        second_lines.append(second_line)\n",
    "        third_lines.append(third_line)\n",
    "        answers.append(result_line)\n",
    "\n",
    "    # Build the final lines, with all the problems side by side and separated by 4 whitespaces\n",
    "    first = '    '.join(first_lines)\n",
    "    second = '    '.join(second_lines)\n",
    "    third = '    '.join(third_lines)\n",
    "    answer = '    '.join(answers)\n",
    "\n",
    "    # Add answer line if required\n",
    "    if show_answers:\n",
    "        return f'{first}\\n{second}\\n{third}\\n{answer}'\n",
    "    else:\n",
    "        return f'{first}\\n{second}\\n{third}'"
   ]
  },
  {
   "cell_type": "markdown",
   "metadata": {},
   "source": [
    "---\n",
    "---"
   ]
  },
  {
   "cell_type": "markdown",
   "metadata": {},
   "source": [
    "## Tests"
   ]
  },
  {
   "cell_type": "code",
   "execution_count": null,
   "metadata": {},
   "outputs": [],
   "source": [
    "print(f'{arithmetic_arranger([\"3801 - 2\", \"123 + 49\"])}')"
   ]
  },
  {
   "cell_type": "code",
   "execution_count": null,
   "metadata": {},
   "outputs": [],
   "source": [
    "print(f'{arithmetic_arranger([\"1 + 2\", \"1 - 9380\"])}')"
   ]
  },
  {
   "cell_type": "code",
   "execution_count": null,
   "metadata": {},
   "outputs": [],
   "source": [
    "print(f'{arithmetic_arranger([\"3 + 855\", \"3801 - 2\", \"45 + 43\", \"123 + 49\"])}')"
   ]
  },
  {
   "cell_type": "code",
   "execution_count": null,
   "metadata": {},
   "outputs": [],
   "source": [
    "print(f'{arithmetic_arranger([\"11 + 4\", \"3801 - 2999\", \"1 + 2\", \"123 + 49\", \"1 - 9380\"])}')"
   ]
  },
  {
   "cell_type": "code",
   "execution_count": null,
   "metadata": {},
   "outputs": [],
   "source": [
    "print(f'{arithmetic_arranger([\"44 + 815\", \"909 - 2\", \"45 + 43\", \"123 + 49\", \"888 + 40\", \"653 + 87\"])}')"
   ]
  },
  {
   "cell_type": "code",
   "execution_count": null,
   "metadata": {},
   "outputs": [],
   "source": [
    "print(f'{arithmetic_arranger([\"3 / 855\", \"3801 - 2\", \"45 + 43\", \"123 + 49\"])}')"
   ]
  },
  {
   "cell_type": "code",
   "execution_count": null,
   "metadata": {},
   "outputs": [],
   "source": [
    "print(f'{arithmetic_arranger([\"24 + 85215\", \"3801 - 2\", \"45 + 43\", \"123 + 49\"])}')"
   ]
  },
  {
   "cell_type": "code",
   "execution_count": null,
   "metadata": {},
   "outputs": [],
   "source": [
    "print(f'{arithmetic_arranger([\"98 + 3g5\", \"3801 - 2\", \"45 + 43\", \"123 + 49\"])}')"
   ]
  },
  {
   "cell_type": "code",
   "execution_count": null,
   "metadata": {},
   "outputs": [],
   "source": [
    "print(f'{arithmetic_arranger([\"3 + 855\", \"988 + 40\"], True)}')"
   ]
  },
  {
   "cell_type": "code",
   "execution_count": null,
   "metadata": {},
   "outputs": [],
   "source": [
    "print(f'{arithmetic_arranger([\"32 - 698\", \"1 - 3801\", \"45 + 43\", \"123 + 49\", \"988 + 40\"], True)}')"
   ]
  }
 ],
 "metadata": {
  "kernelspec": {
   "display_name": "sabbys_base",
   "language": "python",
   "name": "python3"
  },
  "language_info": {
   "codemirror_mode": {
    "name": "ipython",
    "version": 3
   },
   "file_extension": ".py",
   "mimetype": "text/x-python",
   "name": "python",
   "nbconvert_exporter": "python",
   "pygments_lexer": "ipython3",
   "version": "3.12.3"
  }
 },
 "nbformat": 4,
 "nbformat_minor": 2
}
