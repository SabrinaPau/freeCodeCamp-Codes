{
 "cells": [
  {
   "cell_type": "markdown",
   "metadata": {},
   "source": [
    "# **Regular Expression** by Building a *Password Generator*\n",
    "\n",
    "A Python module is a file that contains a set of statements and definitions that you can use in your code.\n",
    "\n",
    "In this project, you'll learn how to import modules from the Python standard library. You'll also learn how to use Regular Expressions by building your own password generator program."
   ]
  },
  {
   "cell_type": "code",
   "execution_count": null,
   "metadata": {},
   "outputs": [],
   "source": [
    "import re\n",
    "import secrets\n",
    "import string\n",
    "\n",
    "\n",
    "def generate_password(length=16, nums=1, special_chars=1, uppercase=1, lowercase=1):\n",
    "\n",
    "    # Define the possible characters for the password\n",
    "    letters = string.ascii_letters\n",
    "    digits = string.digits\n",
    "    symbols = string.punctuation\n",
    "\n",
    "    # Combine all characters\n",
    "    all_characters = letters + digits + symbols\n",
    "\n",
    "    while True:\n",
    "        password = ''\n",
    "        # Generate password\n",
    "        for _ in range(length):\n",
    "            password += secrets.choice(all_characters)\n",
    "        \n",
    "        constraints = [\n",
    "            (nums, r'\\d'),\n",
    "            (special_chars, fr'[{symbols}]'),\n",
    "            (uppercase, r'[A-Z]'),\n",
    "            (lowercase, r'[a-z]')\n",
    "        ]\n",
    "\n",
    "        # Check constraints        \n",
    "        if all(\n",
    "            constraint <= len(re.findall(pattern, password))\n",
    "            for constraint, pattern in constraints\n",
    "        ):\n",
    "            break\n",
    "    \n",
    "    return password\n",
    "\n",
    "if __name__ == '__main__':\n",
    "    new_password = generate_password()\n",
    "    print('Generated password:', new_password)"
   ]
  },
  {
   "cell_type": "markdown",
   "metadata": {},
   "source": [
    "---"
   ]
  },
  {
   "cell_type": "markdown",
   "metadata": {},
   "source": [
    "# **Algorithm Design** by Building a *Shortest Path Algorithm*\n",
    "\n",
    "Algorithms are step-by-step procedures that developers use to perform calculations and solve computational problems.\n",
    "\n",
    "In this project, you'll learn how to use functions, loops, conditional statements, and dictionary comprehensions to implement a Shortest Path algorithm."
   ]
  },
  {
   "cell_type": "code",
   "execution_count": null,
   "metadata": {},
   "outputs": [],
   "source": [
    "my_graph = {\n",
    "    'A': [('B', 5), ('C', 3), ('E', 11)],\n",
    "    'B': [('A', 5), ('C', 1), ('F', 2)],\n",
    "    'C': [('A', 3), ('B', 1), ('D', 1), ('E', 5)],\n",
    "    'D': [('C',1 ), ('E', 9), ('F', 3)],\n",
    "    'E': [('A', 11), ('C', 5), ('D', 9)],\n",
    "    'F': [('B', 2), ('D', 3)]\n",
    "}\n",
    "\n",
    "def shortest_path(graph, start, target = ''):\n",
    "    unvisited = list(graph)\n",
    "    distances = {node: 0 if node == start else float('inf') for node in graph}\n",
    "    paths = {node: [] for node in graph}\n",
    "    paths[start].append(start)\n",
    "    \n",
    "    while unvisited:\n",
    "        current = min(unvisited, key=distances.get)\n",
    "        for node, distance in graph[current]:\n",
    "            if distance + distances[current] < distances[node]:\n",
    "                distances[node] = distance + distances[current]\n",
    "                if paths[node] and paths[node][-1] == node:\n",
    "                    paths[node] = paths[current][:]\n",
    "                else:\n",
    "                    paths[node].extend(paths[current])\n",
    "                paths[node].append(node)\n",
    "        unvisited.remove(current)\n",
    "    \n",
    "    targets_to_print = [target] if target else graph\n",
    "    for node in targets_to_print:\n",
    "        if node == start:\n",
    "            continue\n",
    "        print(f'\\n{start}-{node} distance: {distances[node]}\\nPath: {\" -> \".join(paths[node])}')\n",
    "    \n",
    "    return distances, paths\n",
    "    \n",
    "shortest_path(my_graph, 'A', 'F')"
   ]
  },
  {
   "cell_type": "markdown",
   "metadata": {},
   "source": [
    "---"
   ]
  },
  {
   "cell_type": "markdown",
   "metadata": {},
   "source": [
    "# **Recursion** by Solving the *Tower of Hanoi Puzzle*\n",
    "\n",
    "Recursion is a programming approach that allows you to solve complicated computational problems with just a little code.\n",
    "\n",
    "In this project, you'll start with a loop-based approach to solving the tower of Hanoi mathematical puzzle. Then you'll learn how to implement a recursive solution."
   ]
  },
  {
   "cell_type": "markdown",
   "metadata": {},
   "source": [
    "### Iterative solution"
   ]
  },
  {
   "cell_type": "code",
   "execution_count": null,
   "metadata": {},
   "outputs": [],
   "source": [
    "NUMBER_OF_DISKS = 2\n",
    "number_of_moves = 2 ** NUMBER_OF_DISKS - 1\n",
    "rods = {\n",
    "    'A': list(range(NUMBER_OF_DISKS, 0, -1)),\n",
    "    'B': [],\n",
    "    'C': []\n",
    "}\n",
    "\n",
    "def make_allowed_move(rod1, rod2):    \n",
    "    forward = False\n",
    "    if not rods[rod2]:\n",
    "        forward = True\n",
    "    elif rods[rod1] and rods[rod1][-1] < rods[rod2][-1]:\n",
    "        forward = True              \n",
    "    if forward:\n",
    "        print(f'Moving disk {rods[rod1][-1]} from {rod1} to {rod2}')\n",
    "        rods[rod2].append(rods[rod1].pop())\n",
    "    else:\n",
    "        print(f'Moving disk {rods[rod2][-1]} from {rod2} to {rod1}')\n",
    "        rods[rod1].append(rods[rod2].pop())\n",
    "    \n",
    "    # display our progress\n",
    "    print(rods, '\\n')\n",
    "\n",
    "def move(n, source, auxiliary, target):\n",
    "    # display starting configuration\n",
    "    print(rods, '\\n')\n",
    "    for i in range(number_of_moves):\n",
    "        remainder = (i + 1) % 3\n",
    "        if remainder == 1:\n",
    "            if n % 2 != 0:\n",
    "                print(f'Move {i + 1} allowed between {source} and {target}')\n",
    "                make_allowed_move(source, target)\n",
    "            else:\n",
    "                print(f'Move {i + 1} allowed between {source} and {auxiliary}')\n",
    "                make_allowed_move(source, auxiliary)\n",
    "        elif remainder == 2:\n",
    "            if n % 2 != 0:\n",
    "                print(f'Move {i + 1} allowed between {source} and {auxiliary}')\n",
    "                make_allowed_move(source, auxiliary)\n",
    "            else:\n",
    "                print(f'Move {i + 1} allowed between {source} and {target}')\n",
    "                make_allowed_move(source, target)\n",
    "        elif remainder == 0:\n",
    "            print(f'Move {i + 1} allowed between {auxiliary} and {target}')\n",
    "            make_allowed_move(auxiliary, target)           \n",
    "\n",
    "# initiate call from source A to target C with auxiliary B\n",
    "move(NUMBER_OF_DISKS, 'A', 'B', 'C')"
   ]
  },
  {
   "cell_type": "markdown",
   "metadata": {},
   "source": [
    "### Recursive solution"
   ]
  },
  {
   "cell_type": "code",
   "execution_count": null,
   "metadata": {},
   "outputs": [],
   "source": [
    "NUMBER_OF_DISKS = 5\n",
    "A = list(range(NUMBER_OF_DISKS, 0, -1))\n",
    "B = []\n",
    "C = []\n",
    "\n",
    "def move(n, source, auxiliary, target):\n",
    "    if n <= 0:\n",
    "        return\n",
    "    # move n - 1 disks from source to auxiliary, so they are out of the way\n",
    "    move(n - 1, source, target, auxiliary)\n",
    "        \n",
    "    # move the nth disk from source to target\n",
    "    target.append(source.pop())\n",
    "        \n",
    "    # display our progress\n",
    "    print(A, B, C, '\\n')\n",
    "        \n",
    "    # move the n - 1 disks that we left on auxiliary onto target\n",
    "    move(n - 1,  auxiliary, source, target)\n",
    "              \n",
    "# initiate call from source A to target C with auxiliary B\n",
    "move(NUMBER_OF_DISKS, A, B, C)"
   ]
  },
  {
   "cell_type": "markdown",
   "metadata": {},
   "source": [
    "---"
   ]
  },
  {
   "cell_type": "markdown",
   "metadata": {},
   "source": [
    "# **Data Structure** by Building the *Merge Sort Algorithm*\n",
    "\n",
    "The Merge Sort Algorithm is a sorting algorithm based on the divide and conquer principle.\n",
    "\n",
    "In this project, you'll learn how to interact with data structures by sorting a list of random numbers using the Merge Sort Algorithm."
   ]
  },
  {
   "cell_type": "code",
   "execution_count": null,
   "metadata": {},
   "outputs": [],
   "source": [
    "def merge_sort(array):\n",
    "    if len(array) <= 1:\n",
    "        return\n",
    "    \n",
    "    middle_point = len(array) // 2\n",
    "    left_part = array[:middle_point]\n",
    "    right_part = array[middle_point:]\n",
    "\n",
    "    merge_sort(left_part)\n",
    "    merge_sort(right_part)\n",
    "\n",
    "    left_array_index = 0\n",
    "    right_array_index = 0\n",
    "    sorted_index = 0\n",
    "\n",
    "    while left_array_index < len(left_part) and right_array_index < len(right_part):\n",
    "        if left_part[left_array_index] < right_part[right_array_index]:\n",
    "            array[sorted_index] = left_part[left_array_index]\n",
    "            left_array_index += 1\n",
    "        else:\n",
    "            array[sorted_index] = right_part[right_array_index]\n",
    "            right_array_index += 1\n",
    "        sorted_index += 1\n",
    "\n",
    "    while left_array_index < len(left_part):\n",
    "        array[sorted_index] = left_part[left_array_index]\n",
    "        left_array_index += 1\n",
    "        sorted_index += 1\n",
    "    \n",
    "    while right_array_index < len(right_part):\n",
    "        array[sorted_index] = right_part[right_array_index]\n",
    "        right_array_index += 1\n",
    "        sorted_index += 1\n",
    "\n",
    "\n",
    "if __name__ == '__main__':\n",
    "    numbers = [4, 10, 6, 14, 2, 1, 8, 5]\n",
    "    print('Unsorted array: ')\n",
    "    print(numbers)\n",
    "    merge_sort(numbers)\n",
    "    print('Sorted array: ' + str(numbers))"
   ]
  }
 ],
 "metadata": {
  "kernelspec": {
   "display_name": "sabbys_base",
   "language": "python",
   "name": "python3"
  },
  "language_info": {
   "codemirror_mode": {
    "name": "ipython",
    "version": 3
   },
   "file_extension": ".py",
   "mimetype": "text/x-python",
   "name": "python",
   "nbconvert_exporter": "python",
   "pygments_lexer": "ipython3",
   "version": "3.12.3"
  }
 },
 "nbformat": 4,
 "nbformat_minor": 2
}
